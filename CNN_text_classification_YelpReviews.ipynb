{
  "cells": [
    {
      "cell_type": "markdown",
      "metadata": {
        "colab_type": "text",
        "id": "view-in-github"
      },
      "source": [
        "<a href=\"https://colab.research.google.com/github/yassiracharki/DeepLearningProjrects/blob/main/binary_text_classification_yelp_reviews_cnn_90.ipynb\" target=\"_parent\"><img src=\"https://colab.research.google.com/assets/colab-badge.svg\" alt=\"Open In Colab\"/></a>"
      ]
    },
    {
      "cell_type": "markdown",
      "metadata": {},
      "source": [
        "# Mount drive to access dataset\n"
      ]
    },
    {
      "cell_type": "code",
      "execution_count": 6,
      "metadata": {
        "colab": {
          "base_uri": "https://localhost:8080/"
        },
        "id": "PJYw0NHmZl_x",
        "outputId": "b4af92e3-f7a9-4fa7-ef4d-49c0fa90cbac"
      },
      "outputs": [
        {
          "name": "stdout",
          "output_type": "stream",
          "text": [
            "Mounted at /content/drive\n"
          ]
        }
      ],
      "source": [
        "from google.colab import drive\n",
        "drive.mount('/content/drive')"
      ]
    },
    {
      "cell_type": "markdown",
      "metadata": {
        "id": "tFjPVvUOUCLW"
      },
      "source": [
        "# 1. Download and Imports"
      ]
    },
    {
      "cell_type": "code",
      "execution_count": 1,
      "metadata": {
        "colab": {
          "base_uri": "https://localhost:8080/"
        },
        "execution": {
          "iopub.execute_input": "2022-05-09T09:38:37.739699Z",
          "iopub.status.busy": "2022-05-09T09:38:37.739387Z",
          "iopub.status.idle": "2022-05-09T09:39:07.466501Z",
          "shell.execute_reply": "2022-05-09T09:39:07.465630Z",
          "shell.execute_reply.started": "2022-05-09T09:38:37.739619Z"
        },
        "id": "iayiP3GZrjjk",
        "outputId": "00c899ff-1fa1-4bbf-fecf-fc1fbe784cf5",
        "trusted": true
      },
      "outputs": [
        {
          "name": "stdout",
          "output_type": "stream",
          "text": [
            "Collecting contractions\n",
            "  Downloading contractions-0.1.72-py2.py3-none-any.whl (8.3 kB)\n",
            "Collecting textsearch>=0.0.21\n",
            "  Downloading textsearch-0.0.21-py2.py3-none-any.whl (7.5 kB)\n",
            "Collecting pyahocorasick\n",
            "  Downloading pyahocorasick-1.4.4-cp37-cp37m-manylinux_2_17_x86_64.manylinux2014_x86_64.whl (106 kB)\n",
            "\u001b[K     |████████████████████████████████| 106 kB 5.8 MB/s \n",
            "\u001b[?25hCollecting anyascii\n",
            "  Downloading anyascii-0.3.1-py3-none-any.whl (287 kB)\n",
            "\u001b[K     |████████████████████████████████| 287 kB 16.9 MB/s \n",
            "\u001b[?25hInstalling collected packages: pyahocorasick, anyascii, textsearch, contractions\n",
            "Successfully installed anyascii-0.3.1 contractions-0.1.72 pyahocorasick-1.4.4 textsearch-0.0.21\n",
            "Requirement already satisfied: textsearch in /usr/local/lib/python3.7/dist-packages (0.0.21)\n",
            "Requirement already satisfied: pyahocorasick in /usr/local/lib/python3.7/dist-packages (from textsearch) (1.4.4)\n",
            "Requirement already satisfied: anyascii in /usr/local/lib/python3.7/dist-packages (from textsearch) (0.3.1)\n",
            "Requirement already satisfied: tqdm in /usr/local/lib/python3.7/dist-packages (4.64.0)\n",
            "[nltk_data] Downloading package punkt to /root/nltk_data...\n",
            "[nltk_data]   Unzipping tokenizers/punkt.zip.\n"
          ]
        },
        {
          "data": {
            "text/plain": [
              "True"
            ]
          },
          "execution_count": 1,
          "metadata": {},
          "output_type": "execute_result"
        }
      ],
      "source": [
        "%pip install contractions\n",
        "%pip install textsearch\n",
        "%pip install tqdm\n",
        "import nltk\n",
        "nltk.download('punkt')"
      ]
    },
    {
      "cell_type": "code",
      "execution_count": 2,
      "metadata": {
        "execution": {
          "iopub.execute_input": "2022-05-09T09:39:07.468941Z",
          "iopub.status.busy": "2022-05-09T09:39:07.468631Z",
          "iopub.status.idle": "2022-05-09T09:39:12.991743Z",
          "shell.execute_reply": "2022-05-09T09:39:12.991042Z",
          "shell.execute_reply.started": "2022-05-09T09:39:07.468906Z"
        },
        "id": "Gbnh0egkUzRX",
        "trusted": true
      },
      "outputs": [],
      "source": [
        "#Tensorflow and Keras and sklearn\n",
        "import tensorflow as tf\n",
        "import pandas as pd\n",
        "import numpy as np\n",
        "from tensorflow.keras.models import Sequential\n",
        "from tensorflow.keras.layers import Dense\n",
        "from tensorflow.keras.layers import Dropout\n",
        "from tensorflow.keras.layers import Flatten\n",
        "from tensorflow.keras.layers import Conv1D\n",
        "from tensorflow.keras.layers import MaxPooling1D\n",
        "from tensorflow.keras.layers import Embedding\n",
        "from tensorflow.keras.preprocessing.text import Tokenizer\n",
        "from tensorflow.keras.preprocessing import sequence\n",
        "from sklearn.preprocessing import LabelEncoder\n",
        "\n",
        "#Charts\n",
        "from sklearn import metrics \n",
        "from sklearn.metrics import f1_score, accuracy_score,confusion_matrix,classification_report\n",
        "import matplotlib.pyplot as plt\n",
        "import seaborn as sns\n",
        "\n",
        "# Time\n",
        "import time\n",
        "import datetime\n",
        "\n",
        "#Performance Plot\n",
        "import contractions\n",
        "from bs4 import BeautifulSoup\n",
        "import numpy as np\n",
        "import re\n",
        "import tqdm\n",
        "import unicodedata\n",
        "\n",
        "%matplotlib inline\n",
        "\n",
        "# fix random seed for reproducibility\n",
        "seed = 3541\n",
        "np.random.seed(seed)"
      ]
    },
    {
      "cell_type": "markdown",
      "metadata": {
        "id": "jMO-FQ0jUCLh"
      },
      "source": [
        "# 2. Functions"
      ]
    },
    {
      "cell_type": "code",
      "execution_count": 3,
      "metadata": {
        "execution": {
          "iopub.execute_input": "2022-05-09T09:39:12.993182Z",
          "iopub.status.busy": "2022-05-09T09:39:12.992948Z",
          "iopub.status.idle": "2022-05-09T09:39:13.000758Z",
          "shell.execute_reply": "2022-05-09T09:39:13.000106Z",
          "shell.execute_reply.started": "2022-05-09T09:39:12.993152Z"
        },
        "id": "hcRAE60VUCLi",
        "trusted": true
      },
      "outputs": [],
      "source": [
        "# date_time function\n",
        "\n",
        "def date_time(x):\n",
        "    if x==1:\n",
        "        return 'Timestamp: {:%Y-%m-%d %H:%M:%S}'.format(datetime.datetime.now())\n",
        "    if x==2:    \n",
        "        return 'Timestamp: {:%Y-%b-%d %H:%M:%S}'.format(datetime.datetime.now())\n",
        "    if x==3:  \n",
        "        return 'Date now: %s' % datetime.datetime.now()\n",
        "    if x==4:  \n",
        "        return 'Date today: %s' % datetime.date.today()"
      ]
    },
    {
      "cell_type": "code",
      "execution_count": 4,
      "metadata": {
        "execution": {
          "iopub.execute_input": "2022-05-09T09:39:13.004205Z",
          "iopub.status.busy": "2022-05-09T09:39:13.004021Z",
          "iopub.status.idle": "2022-05-09T09:39:13.016279Z",
          "shell.execute_reply": "2022-05-09T09:39:13.015568Z",
          "shell.execute_reply.started": "2022-05-09T09:39:13.004179Z"
        },
        "id": "cAHHqQ_eUCLn",
        "trusted": true
      },
      "outputs": [],
      "source": [
        "# Performance Plot\n",
        "\n",
        "def plot_performance(history=None, figure_directory=None, ylim_pad=[0, 0]):\n",
        "    xlabel = 'Epoch'\n",
        "    legends = ['Training', 'Validation']\n",
        "\n",
        "    plt.figure(figsize=(20, 5))\n",
        "\n",
        "    y1 = history.history['accuracy']\n",
        "    y2 = history.history['val_accuracy']\n",
        "\n",
        "    min_y = min(min(y1), min(y2))-ylim_pad[0]\n",
        "    max_y = max(max(y1), max(y2))+ylim_pad[0]\n",
        "\n",
        "\n",
        "    plt.subplot(121)\n",
        "\n",
        "    plt.plot(y1)\n",
        "    plt.plot(y2)\n",
        "\n",
        "    plt.title('Model Accuracy\\n'+date_time(1), fontsize=17)\n",
        "    plt.xlabel(xlabel, fontsize=15)\n",
        "    plt.ylabel('Accuracy', fontsize=15)\n",
        "    plt.ylim(min_y, max_y)\n",
        "    plt.legend(legends, loc='upper left')\n",
        "    plt.grid()\n",
        "\n",
        "    y1 = history.history['loss']\n",
        "    y2 = history.history['val_loss']\n",
        "\n",
        "    min_y = min(min(y1), min(y2))-ylim_pad[1]\n",
        "    max_y = max(max(y1), max(y2))+ylim_pad[1]\n",
        "\n",
        "\n",
        "    plt.subplot(122)\n",
        "\n",
        "    plt.plot(y1)\n",
        "    plt.plot(y2)\n",
        "\n",
        "    plt.title('Model Loss\\n'+date_time(1), fontsize=17)\n",
        "    plt.xlabel(xlabel, fontsize=15)\n",
        "    plt.ylabel('Loss', fontsize=15)\n",
        "    plt.ylim(min_y, max_y)\n",
        "    plt.legend(legends, loc='upper left')\n",
        "    plt.grid()\n",
        "    if figure_directory:\n",
        "        plt.savefig(figure_directory+\"/history\")\n",
        "\n",
        "    plt.show()"
      ]
    },
    {
      "cell_type": "code",
      "execution_count": 5,
      "metadata": {
        "execution": {
          "iopub.execute_input": "2022-05-09T09:39:13.017926Z",
          "iopub.status.busy": "2022-05-09T09:39:13.017655Z",
          "iopub.status.idle": "2022-05-09T09:39:13.028295Z",
          "shell.execute_reply": "2022-05-09T09:39:13.027523Z",
          "shell.execute_reply.started": "2022-05-09T09:39:13.017892Z"
        },
        "id": "tkFyu9u3tUOi",
        "trusted": true
      },
      "outputs": [],
      "source": [
        "# Pre-Processing Function\n",
        "\n",
        "def strip_html_tags(text):\n",
        "  soup = BeautifulSoup(text, \"html.parser\")\n",
        "  [s.extract() for s in soup(['iframe', 'script'])]\n",
        "  stripped_text = soup.get_text()\n",
        "  stripped_text = re.sub(r'[\\r|\\n|\\r\\n]+', '\\n', stripped_text)\n",
        "  return stripped_text\n",
        "\n",
        "def remove_accented_chars(text):\n",
        "  text = unicodedata.normalize('NFKD', text).encode('ascii', 'ignore').decode('utf-8', 'ignore')\n",
        "  return text\n",
        "\n",
        "def pre_process_corpus(docs):\n",
        "  norm_docs = []\n",
        "  for doc in tqdm.tqdm(docs):\n",
        "    doc = strip_html_tags(doc)\n",
        "    doc = doc.translate(doc.maketrans(\"\\n\\t\\r\", \"   \"))\n",
        "    doc = doc.lower()\n",
        "    doc = remove_accented_chars(doc)\n",
        "    doc = contractions.fix(doc)\n",
        "    # lower case and remove special characters\\whitespaces\n",
        "    doc = re.sub(r'[^a-zA-Z0-9\\s]', '', doc, re.I|re.A)\n",
        "    doc = re.sub(' +', ' ', doc)\n",
        "    doc = doc.strip()  \n",
        "    norm_docs.append(doc)\n",
        "  \n",
        "  return norm_docs"
      ]
    },
    {
      "cell_type": "markdown",
      "metadata": {
        "id": "8_JEXODppxTc"
      },
      "source": [
        "# 3. Loading Dataset (Yelp Reviews)"
      ]
    },
    {
      "cell_type": "code",
      "execution_count": 8,
      "metadata": {
        "execution": {
          "iopub.execute_input": "2022-05-09T09:39:13.029845Z",
          "iopub.status.busy": "2022-05-09T09:39:13.029484Z",
          "iopub.status.idle": "2022-05-09T09:39:20.167381Z",
          "shell.execute_reply": "2022-05-09T09:39:20.166622Z",
          "shell.execute_reply.started": "2022-05-09T09:39:13.029809Z"
        },
        "id": "U7pQ5WR1VYqm",
        "trusted": true
      },
      "outputs": [],
      "source": [
        "#Reading DAtaset from csv files to Pandas dataframes\n",
        "\n",
        "dataset_train = pd.read_csv('/content/drive/MyDrive/Datasets/yelp_review_sa_binary_csv/train.csv')\n",
        "dataset_test = pd.read_csv('/content/drive/MyDrive/Datasets/yelp_review_sa_binary_csv/test.csv')\n",
        "dataset_val =  pd.read_csv('/content/drive/MyDrive/Datasets/yelp_review_sa_binary_csv/test.csv')"
      ]
    },
    {
      "cell_type": "markdown",
      "metadata": {
        "id": "NaJv5DgYUCL3"
      },
      "source": [
        "# 4. Shuffeling and splitting the Data"
      ]
    },
    {
      "cell_type": "code",
      "execution_count": 9,
      "metadata": {
        "execution": {
          "iopub.execute_input": "2022-05-09T09:39:20.169109Z",
          "iopub.status.busy": "2022-05-09T09:39:20.168857Z",
          "iopub.status.idle": "2022-05-09T09:39:20.307798Z",
          "shell.execute_reply": "2022-05-09T09:39:20.307054Z",
          "shell.execute_reply.started": "2022-05-09T09:39:20.169076Z"
        },
        "id": "XpwueLn6V-qF",
        "trusted": true
      },
      "outputs": [],
      "source": [
        "# Shuffling Data\n",
        "\n",
        "val = dataset_val.sample(frac=1)\n",
        "train = dataset_train.sample(frac=1)\n",
        "test = dataset_test.sample(frac=1)\n",
        "\n",
        "# Taking only a small peice of the dataset to avoid long training time\n",
        "\n",
        "test = dataset_test.iloc[:50000,:]\n",
        "train = dataset_train.iloc[50000:,:]\n",
        "val = dataset_train.iloc[:50000,:]\n",
        "train = dataset_train.iloc[50000:,:]\n",
        "train = dataset_train.iloc[:100000,:]\n",
        "\n",
        "# Splitting data to train and validation sets manually, only including neccessary columns\n",
        "\n",
        "X_train = train['review_text'].values\n",
        "y_train = train['class_index'].values\n",
        "\n",
        "X_val = val['review_text'].values\n",
        "y_val = val['class_index'].values\n",
        "\n",
        "X_test = test['review_text'].values\n",
        "y_test = test['class_index'].values"
      ]
    },
    {
      "cell_type": "markdown",
      "metadata": {
        "id": "0nR6rUxnUCL9"
      },
      "source": [
        "# 5. Preprocessing and Tokenization\n",
        "\n",
        "To prepare text data for our deep learning model, we transform each review into a sequence.\n",
        "Every word in the review is mapped to an integer index and thus the sentence turns into a sequence of numbers."
      ]
    },
    {
      "cell_type": "code",
      "execution_count": 10,
      "metadata": {
        "colab": {
          "base_uri": "https://localhost:8080/"
        },
        "execution": {
          "iopub.execute_input": "2022-05-09T09:39:20.309429Z",
          "iopub.status.busy": "2022-05-09T09:39:20.309180Z",
          "iopub.status.idle": "2022-05-09T09:40:11.171903Z",
          "shell.execute_reply": "2022-05-09T09:40:11.171208Z",
          "shell.execute_reply.started": "2022-05-09T09:39:20.309397Z"
        },
        "id": "EgAqgSnHtap5",
        "outputId": "0f61c2b6-0126-440d-ef83-53158785d4e9",
        "trusted": true
      },
      "outputs": [
        {
          "name": "stderr",
          "output_type": "stream",
          "text": [
            "  4%|▎         | 3531/100000 [00:00<00:25, 3822.76it/s]/usr/local/lib/python3.7/dist-packages/bs4/__init__.py:273: UserWarning: \"b'.'\" looks like a filename, not markup. You should probably open this file and pass the filehandle into Beautiful Soup.\n",
            "  ' Beautiful Soup.' % markup)\n",
            "100%|██████████| 100000/100000 [00:25<00:00, 3870.80it/s]\n",
            "100%|██████████| 50000/50000 [00:13<00:00, 3842.68it/s]\n",
            "100%|██████████| 38000/38000 [00:09<00:00, 3826.92it/s]"
          ]
        },
        {
          "name": "stdout",
          "output_type": "stream",
          "text": [
            "CPU times: user 47.8 s, sys: 1.78 s, total: 49.6 s\n",
            "Wall time: 48.8 s\n"
          ]
        },
        {
          "name": "stderr",
          "output_type": "stream",
          "text": [
            "\n"
          ]
        }
      ],
      "source": [
        "%%time\n",
        "#Pre-processing the Data (the Reviews)\n",
        "\n",
        "X_train = pre_process_corpus(X_train)\n",
        "X_val = pre_process_corpus(X_val)\n",
        "X_test = pre_process_corpus(X_test)"
      ]
    },
    {
      "cell_type": "markdown",
      "metadata": {
        "id": "5NvGO--pUCMJ"
      },
      "source": [
        "After Pre-processing it's time for tokenazation,To perform this transformation, keras provides the ```Tokenizer```"
      ]
    },
    {
      "cell_type": "code",
      "execution_count": 11,
      "metadata": {
        "execution": {
          "iopub.execute_input": "2022-05-09T09:40:11.173896Z",
          "iopub.status.busy": "2022-05-09T09:40:11.173145Z",
          "iopub.status.idle": "2022-05-09T09:40:20.828155Z",
          "shell.execute_reply": "2022-05-09T09:40:20.827382Z",
          "shell.execute_reply.started": "2022-05-09T09:40:11.173857Z"
        },
        "id": "SkThvNjxUCML",
        "trusted": true
      },
      "outputs": [],
      "source": [
        "# Tokenazing the Data (the Reviews)\n",
        "\n",
        "t = Tokenizer(oov_token='<UNK>')\n",
        "# fit the tokenizer on train documents\n",
        "t.fit_on_texts(X_train)\n",
        "t.word_index['<PAD>'] = 0"
      ]
    },
    {
      "cell_type": "code",
      "execution_count": 12,
      "metadata": {
        "execution": {
          "iopub.execute_input": "2022-05-09T09:40:20.831791Z",
          "iopub.status.busy": "2022-05-09T09:40:20.831364Z",
          "iopub.status.idle": "2022-05-09T09:40:32.895467Z",
          "shell.execute_reply": "2022-05-09T09:40:32.894540Z",
          "shell.execute_reply.started": "2022-05-09T09:40:20.831752Z"
        },
        "id": "tixKTzQrUCMN",
        "trusted": true
      },
      "outputs": [],
      "source": [
        "# Transforming Reviews to Sequences\n",
        "\n",
        "X_train = t.texts_to_sequences(X_train)\n",
        "X_test = t.texts_to_sequences(X_test)\n",
        "X_val = t.texts_to_sequences(X_val)"
      ]
    },
    {
      "cell_type": "markdown",
      "metadata": {
        "id": "s3sxjDuwUCMQ"
      },
      "source": [
        "# 6. Dataset Visualization"
      ]
    },
    {
      "cell_type": "code",
      "execution_count": 13,
      "metadata": {
        "colab": {
          "base_uri": "https://localhost:8080/"
        },
        "execution": {
          "iopub.execute_input": "2022-05-09T09:40:32.900101Z",
          "iopub.status.busy": "2022-05-09T09:40:32.899773Z",
          "iopub.status.idle": "2022-05-09T09:40:32.910478Z",
          "shell.execute_reply": "2022-05-09T09:40:32.909788Z",
          "shell.execute_reply.started": "2022-05-09T09:40:32.900064Z"
        },
        "id": "ldkDHyjZgaFV",
        "outputId": "32ac4182-68c5-4669-eccd-0b851f684a1a",
        "trusted": true
      },
      "outputs": [
        {
          "name": "stdout",
          "output_type": "stream",
          "text": [
            "Vocabulary size=196380\n",
            "Number of Reviews=100000\n"
          ]
        }
      ],
      "source": [
        "# Calculating the Vocabulary Size and the number of Reviews\n",
        "\n",
        "print(\"Vocabulary size={}\".format(len(t.word_index)))\n",
        "print(\"Number of Reviews={}\".format(t.document_count))"
      ]
    },
    {
      "cell_type": "code",
      "execution_count": 14,
      "metadata": {
        "colab": {
          "base_uri": "https://localhost:8080/",
          "height": 374
        },
        "execution": {
          "iopub.execute_input": "2022-05-09T09:40:32.917126Z",
          "iopub.status.busy": "2022-05-09T09:40:32.915068Z",
          "iopub.status.idle": "2022-05-09T09:40:33.882252Z",
          "shell.execute_reply": "2022-05-09T09:40:33.881539Z",
          "shell.execute_reply.started": "2022-05-09T09:40:32.917087Z"
        },
        "id": "CQjiXA7Ntw13",
        "outputId": "489bf6ff-704f-4504-bd4d-36e70f0aade0",
        "trusted": true
      },
      "outputs": [
        {
          "data": {
            "image/png": "[encoded data removed]",
            "text/plain": [
              "<Figure size 864x432 with 2 Axes>"
            ]
          },
          "metadata": {
            "needs_background": "light"
          },
          "output_type": "display_data"
        }
      ],
      "source": [
        "# Plotting the size of the sequences\n",
        "\n",
        "import matplotlib.pyplot as plt\n",
        "%matplotlib inline\n",
        "\n",
        "train_lens = [len(s) for s in X_train]\n",
        "test_lens = [len(s) for s in X_test]\n",
        "\n",
        "fig, ax = plt.subplots(1,2, figsize=(12, 6))\n",
        "h1 = ax[0].hist(train_lens)\n",
        "h2 = ax[1].hist(test_lens)"
      ]
    },
    {
      "cell_type": "markdown",
      "metadata": {
        "id": "xfZwP6C8pxT8"
      },
      "source": [
        "# 7. Sequence Normalization and Encoding Labels\n",
        "\n",
        "Not all reviews are of same length. To handle this difference in length of reviews, we define a maximum length.\n",
        "For reviews which are smaller than this length, we pad them with zeros which longer ones are truncated"
      ]
    },
    {
      "cell_type": "code",
      "execution_count": 15,
      "metadata": {
        "execution": {
          "iopub.execute_input": "2022-05-09T09:40:33.884320Z",
          "iopub.status.busy": "2022-05-09T09:40:33.883574Z",
          "iopub.status.idle": "2022-05-09T09:40:36.202964Z",
          "shell.execute_reply": "2022-05-09T09:40:36.202219Z",
          "shell.execute_reply.started": "2022-05-09T09:40:33.884280Z"
        },
        "id": "wAnv99kzWA5k",
        "trusted": true
      },
      "outputs": [],
      "source": [
        "# Padding the dataset to a maximum review length in words\n",
        "\n",
        "MAX_SEQUENCE_LENGTH = 220\n",
        "\n",
        "X_train = sequence.pad_sequences(X_train, maxlen=MAX_SEQUENCE_LENGTH)\n",
        "X_test = sequence.pad_sequences(X_test, maxlen=MAX_SEQUENCE_LENGTH)\n",
        "X_val = sequence.pad_sequences(X_val, maxlen=MAX_SEQUENCE_LENGTH)"
      ]
    },
    {
      "cell_type": "markdown",
      "metadata": {
        "id": "9X_4ticSpxUC"
      },
      "source": [
        "The dataset contains labels of the form positive/negative. The following step encodes the labels using ```sklearn's``` ```LabelEncoder```"
      ]
    },
    {
      "cell_type": "code",
      "execution_count": 16,
      "metadata": {
        "execution": {
          "iopub.execute_input": "2022-05-09T09:40:36.205295Z",
          "iopub.status.busy": "2022-05-09T09:40:36.205002Z",
          "iopub.status.idle": "2022-05-09T09:40:36.217450Z",
          "shell.execute_reply": "2022-05-09T09:40:36.216636Z",
          "shell.execute_reply.started": "2022-05-09T09:40:36.205237Z"
        },
        "id": "tJjbtyDjfsd1",
        "trusted": true
      },
      "outputs": [],
      "source": [
        "# Encoding Labels\n",
        "\n",
        "le = LabelEncoder()\n",
        "num_classes=2 # positive -> 1, negative -> 0\n",
        "\n",
        "y_train = le.fit_transform(y_train)\n",
        "y_test = le.transform(y_test)\n",
        "y_val = le.transform(y_val)"
      ]
    },
    {
      "cell_type": "markdown",
      "metadata": {
        "id": "YCjRYBh2pxUM"
      },
      "source": [
        "# 8. Model Preparation and Training\n",
        "\n",
        "Before preparing the model, we need to set some variables that will be needed later"
      ]
    },
    {
      "cell_type": "code",
      "execution_count": 17,
      "metadata": {
        "execution": {
          "iopub.execute_input": "2022-05-09T09:40:36.219204Z",
          "iopub.status.busy": "2022-05-09T09:40:36.218891Z",
          "iopub.status.idle": "2022-05-09T09:40:36.232245Z",
          "shell.execute_reply": "2022-05-09T09:40:36.231607Z",
          "shell.execute_reply.started": "2022-05-09T09:40:36.219166Z"
        },
        "id": "LR3mdd8kjgW1",
        "trusted": true
      },
      "outputs": [],
      "source": [
        "# Setting Vocabulary size and Emmbedding size\n",
        "\n",
        "VOCAB_SIZE = len(t.word_index)\n",
        "EMBED_SIZE = 300\n",
        "\n",
        "# Setting learining rate within the Adam optimizer\n",
        "\n",
        "Adam = tf.keras.optimizers.Adam(learning_rate=0.01)\n",
        "\n",
        "# Setting the label smoothing within the loss function\n",
        "\n",
        "loss = tf.keras.losses.BinaryCrossentropy(label_smoothing=0.1)\n",
        "\n",
        "# Setting an Early_stopping callback to monitor accuracy with a patience degree of 2\n",
        "\n",
        "callback = tf.keras.callbacks.EarlyStopping(monitor='accuracy', patience=2)"
      ]
    },
    {
      "cell_type": "markdown",
      "metadata": {
        "id": "XjxcRn96UCMh"
      },
      "source": [
        "Since textual data is a sequence of words, we utilize ```1D``` convolutions to scan through the sentences.\n",
        "The model first transforms each word into lower dimensional embedding/vector space followed by 1d convolutions and then passing the data through dense layers before the final layer for classification"
      ]
    },
    {
      "cell_type": "code",
      "execution_count": 18,
      "metadata": {
        "colab": {
          "base_uri": "https://localhost:8080/"
        },
        "execution": {
          "iopub.execute_input": "2022-05-09T09:40:36.233635Z",
          "iopub.status.busy": "2022-05-09T09:40:36.233400Z",
          "iopub.status.idle": "2022-05-09T09:40:38.881220Z",
          "shell.execute_reply": "2022-05-09T09:40:38.879780Z",
          "shell.execute_reply.started": "2022-05-09T09:40:36.233603Z"
        },
        "id": "AXhAERVeXhmZ",
        "outputId": "3cbc84fb-a427-4513-fc28-41ea1fb33a12",
        "trusted": true
      },
      "outputs": [
        {
          "name": "stdout",
          "output_type": "stream",
          "text": [
            "Model: \"sequential\"\n",
            "_________________________________________________________________\n",
            " Layer (type)                Output Shape              Param #   \n",
            "=================================================================\n",
            " embedding (Embedding)       (None, 220, 300)          58914000  \n",
            "                                                                 \n",
            " conv1d (Conv1D)             (None, 220, 32)           38432     \n",
            "                                                                 \n",
            " max_pooling1d (MaxPooling1D  (None, 110, 32)          0         \n",
            " )                                                               \n",
            "                                                                 \n",
            " dropout (Dropout)           (None, 110, 32)           0         \n",
            "                                                                 \n",
            " conv1d_1 (Conv1D)           (None, 110, 64)           8256      \n",
            "                                                                 \n",
            " max_pooling1d_1 (MaxPooling  (None, 55, 64)           0         \n",
            " 1D)                                                             \n",
            "                                                                 \n",
            " dropout_1 (Dropout)         (None, 55, 64)            0         \n",
            "                                                                 \n",
            " conv1d_2 (Conv1D)           (None, 55, 64)            16448     \n",
            "                                                                 \n",
            " max_pooling1d_2 (MaxPooling  (None, 27, 64)           0         \n",
            " 1D)                                                             \n",
            "                                                                 \n",
            " dropout_2 (Dropout)         (None, 27, 64)            0         \n",
            "                                                                 \n",
            " flatten (Flatten)           (None, 1728)              0         \n",
            "                                                                 \n",
            " dense (Dense)               (None, 256)               442624    \n",
            "                                                                 \n",
            " dense_1 (Dense)             (None, 1)                 257       \n",
            "                                                                 \n",
            "=================================================================\n",
            "Total params: 59,420,017\n",
            "Trainable params: 59,420,017\n",
            "Non-trainable params: 0\n",
            "_________________________________________________________________\n"
          ]
        }
      ],
      "source": [
        "# Creating the model\n",
        "\n",
        "model = Sequential()\n",
        "# The Embedding layer\n",
        "model.add(Embedding(VOCAB_SIZE, EMBED_SIZE, input_length=MAX_SEQUENCE_LENGTH))\n",
        "# The first one dimensional convolutional layer (32,4,same,relu)\n",
        "model.add(Conv1D(filters=32, kernel_size=4, padding='same', activation='relu'))\n",
        "# The first Max pooling layer (2)\n",
        "model.add(MaxPooling1D(pool_size=2))\n",
        "# The first Dropout layer (10%)\n",
        "model.add(Dropout(rate=0.10))\n",
        "# The second one dimensional convolutional layer (32,4,same,relu)\n",
        "model.add(Conv1D(filters=64, kernel_size=4, padding='same', activation='relu'))\n",
        "# The second Max pooling layer (2)\n",
        "model.add(MaxPooling1D(pool_size=2))\n",
        "# The second Dropout layer (10%)\n",
        "model.add(Dropout(rate=0.10))\n",
        "# The third one dimensional convolutional layer (32,4,same,relu)\n",
        "model.add(Conv1D(filters=64, kernel_size=4, padding='same', activation='relu'))\n",
        "# The third Max pooling layer (2)\n",
        "model.add(MaxPooling1D(pool_size=2))\n",
        "# The third Dropout layer (10%)\n",
        "model.add(Dropout(rate=0.10))\n",
        "# The Flattening layer\n",
        "model.add(Flatten())\n",
        "# The First Dense Layer (256,relu)\n",
        "model.add(Dense(256, activation='relu'))\n",
        "# The Second Dense Layer or Prediction layer (1,sigmoid)\n",
        "model.add(Dense(1, activation='sigmoid'))\n",
        "# Compiling the Model using the Binary_Crossontropy as a loss function and accuracy as a meseaure and Adam as an Optimizer\n",
        "model.compile(loss=loss, optimizer=Adam, metrics=['accuracy'])\n",
        "# Displaying the Model Schema\n",
        "model.summary()"
      ]
    },
    {
      "cell_type": "code",
      "execution_count": 19,
      "metadata": {
        "colab": {
          "base_uri": "https://localhost:8080/"
        },
        "execution": {
          "iopub.execute_input": "2022-05-09T09:40:38.883960Z",
          "iopub.status.busy": "2022-05-09T09:40:38.883735Z",
          "iopub.status.idle": "2022-05-09T09:57:01.626049Z",
          "shell.execute_reply": "2022-05-09T09:57:01.625208Z",
          "shell.execute_reply.started": "2022-05-09T09:40:38.883928Z"
        },
        "id": "0uc0jXszf5ob",
        "outputId": "1ba384fd-6664-48ff-b370-ee848b17ad4e",
        "trusted": true
      },
      "outputs": [
        {
          "name": "stdout",
          "output_type": "stream",
          "text": [
            "Epoch 1/15\n",
            "3125/3125 [==============================] - 209s 63ms/step - loss: 0.3834 - accuracy: 0.8939 - val_loss: 0.2967 - val_accuracy: 0.9529\n",
            "Epoch 2/15\n",
            "3125/3125 [==============================] - 196s 63ms/step - loss: 0.3238 - accuracy: 0.9358 - val_loss: 0.2683 - val_accuracy: 0.9720\n",
            "Epoch 3/15\n",
            "3125/3125 [==============================] - 197s 63ms/step - loss: 0.3052 - accuracy: 0.9491 - val_loss: 0.2522 - val_accuracy: 0.9781\n",
            "Epoch 4/15\n",
            "3125/3125 [==============================] - 196s 63ms/step - loss: 0.2773 - accuracy: 0.9616 - val_loss: 0.2448 - val_accuracy: 0.9804\n",
            "Epoch 5/15\n",
            "3125/3125 [==============================] - 196s 63ms/step - loss: 0.2686 - accuracy: 0.9666 - val_loss: 0.2411 - val_accuracy: 0.9839\n",
            "Epoch 6/15\n",
            "3125/3125 [==============================] - 193s 62ms/step - loss: 0.2657 - accuracy: 0.9703 - val_loss: 0.2369 - val_accuracy: 0.9867\n",
            "Epoch 7/15\n",
            "3125/3125 [==============================] - 196s 63ms/step - loss: 0.2671 - accuracy: 0.9719 - val_loss: 0.2347 - val_accuracy: 0.9871\n",
            "Epoch 8/15\n",
            "3125/3125 [==============================] - 193s 62ms/step - loss: 0.2615 - accuracy: 0.9732 - val_loss: 0.2474 - val_accuracy: 0.9770\n",
            "Epoch 9/15\n",
            "3125/3125 [==============================] - 198s 63ms/step - loss: 0.2553 - accuracy: 0.9759 - val_loss: 0.2283 - val_accuracy: 0.9903\n",
            "Epoch 10/15\n",
            "3125/3125 [==============================] - 195s 63ms/step - loss: 0.2571 - accuracy: 0.9770 - val_loss: 0.2354 - val_accuracy: 0.9858\n",
            "Epoch 11/15\n",
            "3125/3125 [==============================] - 198s 64ms/step - loss: 0.2560 - accuracy: 0.9772 - val_loss: 0.2279 - val_accuracy: 0.9919\n",
            "Epoch 12/15\n",
            "3125/3125 [==============================] - 195s 62ms/step - loss: 0.2529 - accuracy: 0.9797 - val_loss: 0.2348 - val_accuracy: 0.9902\n",
            "Epoch 13/15\n",
            "3125/3125 [==============================] - 192s 61ms/step - loss: 0.2492 - accuracy: 0.9811 - val_loss: 0.2255 - val_accuracy: 0.9934\n",
            "Epoch 14/15\n",
            "3125/3125 [==============================] - 192s 61ms/step - loss: 0.2473 - accuracy: 0.9833 - val_loss: 0.2435 - val_accuracy: 0.9901\n",
            "Epoch 15/15\n",
            "3125/3125 [==============================] - 192s 61ms/step - loss: 0.2436 - accuracy: 0.9839 - val_loss: 0.2400 - val_accuracy: 0.9882\n"
          ]
        }
      ],
      "source": [
        "# Training the Model with GPU\n",
        "with tf.device('/GPU:0'):\n",
        "    history1 = model.fit(X_train, y_train, validation_data=(X_val,y_val),epochs=15, batch_size=32, verbose=1, callbacks=[callback])"
      ]
    },
    {
      "cell_type": "markdown",
      "metadata": {
        "id": "zEqdK8rPUCMn"
      },
      "source": [
        "# 9. Visualizing and Evaluating the Results"
      ]
    },
    {
      "cell_type": "code",
      "execution_count": 20,
      "metadata": {
        "colab": {
          "base_uri": "https://localhost:8080/",
          "height": 379
        },
        "execution": {
          "iopub.execute_input": "2022-05-09T09:57:01.628082Z",
          "iopub.status.busy": "2022-05-09T09:57:01.627490Z",
          "iopub.status.idle": "2022-05-09T09:57:01.950376Z",
          "shell.execute_reply": "2022-05-09T09:57:01.949681Z",
          "shell.execute_reply.started": "2022-05-09T09:57:01.628043Z"
        },
        "id": "nolOu6taUCMq",
        "outputId": "cb862bac-a153-4154-f82b-3b608eda8ff5",
        "trusted": true
      },
      "outputs": [
        {
          "data": {
            "image/png": "[encoded data removed]",
            "text/plain": [
              "<Figure size 1440x360 with 2 Axes>"
            ]
          },
          "metadata": {
            "needs_background": "light"
          },
          "output_type": "display_data"
        }
      ],
      "source": [
        "#Accuracy / Validation_Accuracy  and Loss / Validation_Loss Plot\n",
        "\n",
        "plot_performance(history=history1)"
      ]
    },
    {
      "cell_type": "code",
      "execution_count": 21,
      "metadata": {
        "colab": {
          "base_uri": "https://localhost:8080/"
        },
        "execution": {
          "iopub.execute_input": "2022-05-09T09:57:01.951980Z",
          "iopub.status.busy": "2022-05-09T09:57:01.951591Z",
          "iopub.status.idle": "2022-05-09T09:57:04.956448Z",
          "shell.execute_reply": "2022-05-09T09:57:04.955773Z",
          "shell.execute_reply.started": "2022-05-09T09:57:01.951943Z"
        },
        "id": "3Zik9CWQgNlK",
        "outputId": "e52d7f38-fb20-44ea-9356-9e66bdbf6317",
        "trusted": true
      },
      "outputs": [
        {
          "name": "stdout",
          "output_type": "stream",
          "text": [
            "1188/1188 [==============================] - 7s 6ms/step - loss: 0.3653 - accuracy: 0.9068\n",
            "Accuracy: 90.68%\n"
          ]
        }
      ],
      "source": [
        "# Final evaluation of the model\n",
        "\n",
        "scores = model.evaluate(X_test, y_test, verbose=1)\n",
        "print(\"Accuracy: %.2f%%\" % (scores[1]*100))"
      ]
    },
    {
      "cell_type": "markdown",
      "metadata": {
        "id": "KxzCJtGaUCMs"
      },
      "source": [
        "# 10. Saving the model"
      ]
    },
    {
      "cell_type": "code",
      "execution_count": 23,
      "metadata": {
        "execution": {
          "iopub.execute_input": "2022-05-09T09:57:04.957995Z",
          "iopub.status.busy": "2022-05-09T09:57:04.957750Z",
          "iopub.status.idle": "2022-05-09T09:57:06.296493Z",
          "shell.execute_reply": "2022-05-09T09:57:06.295768Z",
          "shell.execute_reply.started": "2022-05-09T09:57:04.957961Z"
        },
        "id": "fbpgZOAYUCMu",
        "trusted": true
      },
      "outputs": [],
      "source": [
        "model.save('Binary_Classification_CNN.h5')"
      ]
    }
  ],
  "metadata": {
    "accelerator": "GPU",
    "colab": {
      "include_colab_link": true,
      "name": "binary-text-classification-yelp-reviews-cnn.ipynb",
      "provenance": []
    },
    "kernelspec": {
      "display_name": "Python 3",
      "language": "python",
      "name": "python3"
    },
    "language_info": {
      "codemirror_mode": {
        "name": "ipython",
        "version": 3
      },
      "file_extension": ".py",
      "mimetype": "text/x-python",
      "name": "python",
      "nbconvert_exporter": "python",
      "pygments_lexer": "ipython3",
      "version": "3.12.2"
    }
  },
  "nbformat": 4,
  "nbformat_minor": 0
}
